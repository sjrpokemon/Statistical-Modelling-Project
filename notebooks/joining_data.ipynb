{
 "cells": [
  {
   "cell_type": "code",
   "execution_count": 1,
   "metadata": {},
   "outputs": [],
   "source": [
    "# import\n",
    "import pandas as pd\n",
    "import sqlite3\n",
    "import numpy as np\n",
    "import re\n",
    "from sqlite3 import Error\n",
    "import seaborn as sns\n",
    "import matplotlib.pyplot as plt\n",
    "%matplotlib inline"
   ]
  },
  {
   "cell_type": "markdown",
   "metadata": {},
   "source": [
    "Join the data from Part 1 with the data from Part 2 to create a new dataframe."
   ]
  },
  {
   "cell_type": "code",
   "execution_count": 7,
   "metadata": {},
   "outputs": [],
   "source": [
    "\n",
    "# Load data from sources\n",
    "stations = pd.read_csv('../data/stations.csv', index_col=None)\n",
    "fsq_pois = pd.read_csv('../data/fsq_businesses.csv', index_col=None)\n",
    "yelp_pois = pd.read_csv('../data/yelp_businesses.csv', index_col=None)"
   ]
  },
  {
   "cell_type": "code",
   "execution_count": 9,
   "metadata": {},
   "outputs": [],
   "source": [
    "# Create combined dataframe\n",
    "\n",
    "combined_df = pd.concat([fsq_pois, yelp_pois], keys=['fsq_pois', 'yelp_pois'], ignore_index=True)"
   ]
  },
  {
   "cell_type": "code",
   "execution_count": 10,
   "metadata": {},
   "outputs": [
    {
     "data": {
      "text/html": [
       "<div>\n",
       "<style scoped>\n",
       "    .dataframe tbody tr th:only-of-type {\n",
       "        vertical-align: middle;\n",
       "    }\n",
       "\n",
       "    .dataframe tbody tr th {\n",
       "        vertical-align: top;\n",
       "    }\n",
       "\n",
       "    .dataframe thead th {\n",
       "        text-align: right;\n",
       "    }\n",
       "</style>\n",
       "<table border=\"1\" class=\"dataframe\">\n",
       "  <thead>\n",
       "    <tr style=\"text-align: right;\">\n",
       "      <th></th>\n",
       "      <th>fsq_id</th>\n",
       "      <th>name</th>\n",
       "      <th>s_lat</th>\n",
       "      <th>s_lon</th>\n",
       "      <th>p_lat</th>\n",
       "      <th>p_lon</th>\n",
       "      <th>category_id</th>\n",
       "      <th>category_name</th>\n",
       "      <th>distance</th>\n",
       "      <th>rating</th>\n",
       "      <th>popularity</th>\n",
       "      <th>price</th>\n",
       "      <th>id</th>\n",
       "      <th>review_count</th>\n",
       "      <th>categories</th>\n",
       "    </tr>\n",
       "  </thead>\n",
       "  <tbody>\n",
       "    <tr>\n",
       "      <th>0</th>\n",
       "      <td>4fdc9a79e4b0735a6deafc25</td>\n",
       "      <td>Starbucks</td>\n",
       "      <td>40.795</td>\n",
       "      <td>-73.9645</td>\n",
       "      <td>40.795045</td>\n",
       "      <td>-73.965638</td>\n",
       "      <td>13035.0</td>\n",
       "      <td>Coffee Shop</td>\n",
       "      <td>100.0</td>\n",
       "      <td>8.1</td>\n",
       "      <td>0.997958</td>\n",
       "      <td>1.0</td>\n",
       "      <td>NaN</td>\n",
       "      <td>NaN</td>\n",
       "      <td>NaN</td>\n",
       "    </tr>\n",
       "    <tr>\n",
       "      <th>1</th>\n",
       "      <td>554c1424498e6819b466c0e7</td>\n",
       "      <td>Bob's Your Uncle</td>\n",
       "      <td>40.795</td>\n",
       "      <td>-73.9645</td>\n",
       "      <td>40.798842</td>\n",
       "      <td>-73.962943</td>\n",
       "      <td>13010.0</td>\n",
       "      <td>Dive Bar</td>\n",
       "      <td>447.0</td>\n",
       "      <td>8.4</td>\n",
       "      <td>0.979331</td>\n",
       "      <td>2.0</td>\n",
       "      <td>NaN</td>\n",
       "      <td>NaN</td>\n",
       "      <td>NaN</td>\n",
       "    </tr>\n",
       "    <tr>\n",
       "      <th>2</th>\n",
       "      <td>49c079b1f964a52068551fe3</td>\n",
       "      <td>Buceo 95</td>\n",
       "      <td>40.795</td>\n",
       "      <td>-73.9645</td>\n",
       "      <td>40.793603</td>\n",
       "      <td>-73.971090</td>\n",
       "      <td>13025.0</td>\n",
       "      <td>Wine Bar</td>\n",
       "      <td>581.0</td>\n",
       "      <td>8.6</td>\n",
       "      <td>0.972596</td>\n",
       "      <td>3.0</td>\n",
       "      <td>NaN</td>\n",
       "      <td>NaN</td>\n",
       "      <td>NaN</td>\n",
       "    </tr>\n",
       "    <tr>\n",
       "      <th>3</th>\n",
       "      <td>49c079b1f964a52068551fe3</td>\n",
       "      <td>Buceo 95</td>\n",
       "      <td>40.795</td>\n",
       "      <td>-73.9645</td>\n",
       "      <td>40.793603</td>\n",
       "      <td>-73.971090</td>\n",
       "      <td>13347.0</td>\n",
       "      <td>Tapas Restaurant</td>\n",
       "      <td>581.0</td>\n",
       "      <td>8.6</td>\n",
       "      <td>0.972596</td>\n",
       "      <td>3.0</td>\n",
       "      <td>NaN</td>\n",
       "      <td>NaN</td>\n",
       "      <td>NaN</td>\n",
       "    </tr>\n",
       "    <tr>\n",
       "      <th>4</th>\n",
       "      <td>5f9dfef4780f611751f28d05</td>\n",
       "      <td>Bánh</td>\n",
       "      <td>40.795</td>\n",
       "      <td>-73.9645</td>\n",
       "      <td>40.800819</td>\n",
       "      <td>-73.965730</td>\n",
       "      <td>13032.0</td>\n",
       "      <td>Cafe, Coffee, and Tea House</td>\n",
       "      <td>654.0</td>\n",
       "      <td>8.8</td>\n",
       "      <td>0.976677</td>\n",
       "      <td>2.0</td>\n",
       "      <td>NaN</td>\n",
       "      <td>NaN</td>\n",
       "      <td>NaN</td>\n",
       "    </tr>\n",
       "  </tbody>\n",
       "</table>\n",
       "</div>"
      ],
      "text/plain": [
       "                     fsq_id              name   s_lat    s_lon      p_lat  \\\n",
       "0  4fdc9a79e4b0735a6deafc25         Starbucks  40.795 -73.9645  40.795045   \n",
       "1  554c1424498e6819b466c0e7  Bob's Your Uncle  40.795 -73.9645  40.798842   \n",
       "2  49c079b1f964a52068551fe3          Buceo 95  40.795 -73.9645  40.793603   \n",
       "3  49c079b1f964a52068551fe3          Buceo 95  40.795 -73.9645  40.793603   \n",
       "4  5f9dfef4780f611751f28d05              Bánh  40.795 -73.9645  40.800819   \n",
       "\n",
       "       p_lon  category_id                category_name  distance  rating  \\\n",
       "0 -73.965638      13035.0                  Coffee Shop     100.0     8.1   \n",
       "1 -73.962943      13010.0                     Dive Bar     447.0     8.4   \n",
       "2 -73.971090      13025.0                     Wine Bar     581.0     8.6   \n",
       "3 -73.971090      13347.0             Tapas Restaurant     581.0     8.6   \n",
       "4 -73.965730      13032.0  Cafe, Coffee, and Tea House     654.0     8.8   \n",
       "\n",
       "   popularity price   id  review_count categories  \n",
       "0    0.997958   1.0  NaN           NaN        NaN  \n",
       "1    0.979331   2.0  NaN           NaN        NaN  \n",
       "2    0.972596   3.0  NaN           NaN        NaN  \n",
       "3    0.972596   3.0  NaN           NaN        NaN  \n",
       "4    0.976677   2.0  NaN           NaN        NaN  "
      ]
     },
     "execution_count": 10,
     "metadata": {},
     "output_type": "execute_result"
    }
   ],
   "source": [
    "combined_df.head()"
   ]
  },
  {
   "cell_type": "code",
   "execution_count": 11,
   "metadata": {},
   "outputs": [
    {
     "name": "stdout",
     "output_type": "stream",
     "text": [
      "<class 'pandas.core.frame.DataFrame'>\n",
      "RangeIndex: 15457 entries, 0 to 15456\n",
      "Data columns (total 15 columns):\n",
      " #   Column         Non-Null Count  Dtype  \n",
      "---  ------         --------------  -----  \n",
      " 0   fsq_id         15437 non-null  object \n",
      " 1   name           15457 non-null  object \n",
      " 2   s_lat          15437 non-null  float64\n",
      " 3   s_lon          15437 non-null  float64\n",
      " 4   p_lat          15437 non-null  float64\n",
      " 5   p_lon          15437 non-null  float64\n",
      " 6   category_id    15437 non-null  float64\n",
      " 7   category_name  15437 non-null  object \n",
      " 8   distance       15457 non-null  float64\n",
      " 9   rating         15209 non-null  float64\n",
      " 10  popularity     15408 non-null  float64\n",
      " 11  price          14278 non-null  object \n",
      " 12  id             20 non-null     object \n",
      " 13  review_count   20 non-null     float64\n",
      " 14  categories     20 non-null     object \n",
      "dtypes: float64(9), object(6)\n",
      "memory usage: 1.8+ MB\n"
     ]
    }
   ],
   "source": [
    "combined_df.info()"
   ]
  },
  {
   "cell_type": "code",
   "execution_count": 14,
   "metadata": {},
   "outputs": [],
   "source": [
    "# Fix type and format\n",
    "\n",
    "combined_df['category_id'] = pd.to_numeric(\n",
    "    combined_df['category_id'], \n",
    "    errors='coerce'\n",
    ").astype('Int64')\n",
    "combined_df['price'] = pd.to_numeric(\n",
    "    combined_df['price'], \n",
    "    errors='coerce'\n",
    ").astype('Int64')\n",
    "combined_df['review_count'] = pd.to_numeric(\n",
    "    combined_df['review_count'], \n",
    "    errors='coerce'\n",
    ").astype('Int64')\n",
    "combined_df['rating'] = combined_df['rating'].round(2)\n",
    "combined_df['popularity'] = combined_df['popularity'].round(3)"
   ]
  },
  {
   "cell_type": "code",
   "execution_count": 15,
   "metadata": {},
   "outputs": [
    {
     "data": {
      "text/html": [
       "<div>\n",
       "<style scoped>\n",
       "    .dataframe tbody tr th:only-of-type {\n",
       "        vertical-align: middle;\n",
       "    }\n",
       "\n",
       "    .dataframe tbody tr th {\n",
       "        vertical-align: top;\n",
       "    }\n",
       "\n",
       "    .dataframe thead th {\n",
       "        text-align: right;\n",
       "    }\n",
       "</style>\n",
       "<table border=\"1\" class=\"dataframe\">\n",
       "  <thead>\n",
       "    <tr style=\"text-align: right;\">\n",
       "      <th></th>\n",
       "      <th>fsq_id</th>\n",
       "      <th>name</th>\n",
       "      <th>s_lat</th>\n",
       "      <th>s_lon</th>\n",
       "      <th>p_lat</th>\n",
       "      <th>p_lon</th>\n",
       "      <th>category_id</th>\n",
       "      <th>category_name</th>\n",
       "      <th>distance</th>\n",
       "      <th>rating</th>\n",
       "      <th>popularity</th>\n",
       "      <th>price</th>\n",
       "      <th>id</th>\n",
       "      <th>review_count</th>\n",
       "      <th>categories</th>\n",
       "    </tr>\n",
       "  </thead>\n",
       "  <tbody>\n",
       "    <tr>\n",
       "      <th>0</th>\n",
       "      <td>4fdc9a79e4b0735a6deafc25</td>\n",
       "      <td>Starbucks</td>\n",
       "      <td>40.795</td>\n",
       "      <td>-73.9645</td>\n",
       "      <td>40.795045</td>\n",
       "      <td>-73.965638</td>\n",
       "      <td>13035</td>\n",
       "      <td>Coffee Shop</td>\n",
       "      <td>100.0</td>\n",
       "      <td>8.1</td>\n",
       "      <td>0.998</td>\n",
       "      <td>1</td>\n",
       "      <td>NaN</td>\n",
       "      <td>&lt;NA&gt;</td>\n",
       "      <td>NaN</td>\n",
       "    </tr>\n",
       "    <tr>\n",
       "      <th>1</th>\n",
       "      <td>554c1424498e6819b466c0e7</td>\n",
       "      <td>Bob's Your Uncle</td>\n",
       "      <td>40.795</td>\n",
       "      <td>-73.9645</td>\n",
       "      <td>40.798842</td>\n",
       "      <td>-73.962943</td>\n",
       "      <td>13010</td>\n",
       "      <td>Dive Bar</td>\n",
       "      <td>447.0</td>\n",
       "      <td>8.4</td>\n",
       "      <td>0.979</td>\n",
       "      <td>2</td>\n",
       "      <td>NaN</td>\n",
       "      <td>&lt;NA&gt;</td>\n",
       "      <td>NaN</td>\n",
       "    </tr>\n",
       "    <tr>\n",
       "      <th>2</th>\n",
       "      <td>49c079b1f964a52068551fe3</td>\n",
       "      <td>Buceo 95</td>\n",
       "      <td>40.795</td>\n",
       "      <td>-73.9645</td>\n",
       "      <td>40.793603</td>\n",
       "      <td>-73.971090</td>\n",
       "      <td>13025</td>\n",
       "      <td>Wine Bar</td>\n",
       "      <td>581.0</td>\n",
       "      <td>8.6</td>\n",
       "      <td>0.973</td>\n",
       "      <td>3</td>\n",
       "      <td>NaN</td>\n",
       "      <td>&lt;NA&gt;</td>\n",
       "      <td>NaN</td>\n",
       "    </tr>\n",
       "    <tr>\n",
       "      <th>3</th>\n",
       "      <td>49c079b1f964a52068551fe3</td>\n",
       "      <td>Buceo 95</td>\n",
       "      <td>40.795</td>\n",
       "      <td>-73.9645</td>\n",
       "      <td>40.793603</td>\n",
       "      <td>-73.971090</td>\n",
       "      <td>13347</td>\n",
       "      <td>Tapas Restaurant</td>\n",
       "      <td>581.0</td>\n",
       "      <td>8.6</td>\n",
       "      <td>0.973</td>\n",
       "      <td>3</td>\n",
       "      <td>NaN</td>\n",
       "      <td>&lt;NA&gt;</td>\n",
       "      <td>NaN</td>\n",
       "    </tr>\n",
       "    <tr>\n",
       "      <th>4</th>\n",
       "      <td>5f9dfef4780f611751f28d05</td>\n",
       "      <td>Bánh</td>\n",
       "      <td>40.795</td>\n",
       "      <td>-73.9645</td>\n",
       "      <td>40.800819</td>\n",
       "      <td>-73.965730</td>\n",
       "      <td>13032</td>\n",
       "      <td>Cafe, Coffee, and Tea House</td>\n",
       "      <td>654.0</td>\n",
       "      <td>8.8</td>\n",
       "      <td>0.977</td>\n",
       "      <td>2</td>\n",
       "      <td>NaN</td>\n",
       "      <td>&lt;NA&gt;</td>\n",
       "      <td>NaN</td>\n",
       "    </tr>\n",
       "  </tbody>\n",
       "</table>\n",
       "</div>"
      ],
      "text/plain": [
       "                     fsq_id              name   s_lat    s_lon      p_lat  \\\n",
       "0  4fdc9a79e4b0735a6deafc25         Starbucks  40.795 -73.9645  40.795045   \n",
       "1  554c1424498e6819b466c0e7  Bob's Your Uncle  40.795 -73.9645  40.798842   \n",
       "2  49c079b1f964a52068551fe3          Buceo 95  40.795 -73.9645  40.793603   \n",
       "3  49c079b1f964a52068551fe3          Buceo 95  40.795 -73.9645  40.793603   \n",
       "4  5f9dfef4780f611751f28d05              Bánh  40.795 -73.9645  40.800819   \n",
       "\n",
       "       p_lon  category_id                category_name  distance  rating  \\\n",
       "0 -73.965638        13035                  Coffee Shop     100.0     8.1   \n",
       "1 -73.962943        13010                     Dive Bar     447.0     8.4   \n",
       "2 -73.971090        13025                     Wine Bar     581.0     8.6   \n",
       "3 -73.971090        13347             Tapas Restaurant     581.0     8.6   \n",
       "4 -73.965730        13032  Cafe, Coffee, and Tea House     654.0     8.8   \n",
       "\n",
       "   popularity  price   id  review_count categories  \n",
       "0       0.998      1  NaN          <NA>        NaN  \n",
       "1       0.979      2  NaN          <NA>        NaN  \n",
       "2       0.973      3  NaN          <NA>        NaN  \n",
       "3       0.973      3  NaN          <NA>        NaN  \n",
       "4       0.977      2  NaN          <NA>        NaN  "
      ]
     },
     "execution_count": 15,
     "metadata": {},
     "output_type": "execute_result"
    }
   ],
   "source": [
    "combined_df.head()"
   ]
  },
  {
   "cell_type": "code",
   "execution_count": 16,
   "metadata": {},
   "outputs": [
    {
     "name": "stdout",
     "output_type": "stream",
     "text": [
      "<class 'pandas.core.frame.DataFrame'>\n",
      "RangeIndex: 15457 entries, 0 to 15456\n",
      "Data columns (total 15 columns):\n",
      " #   Column         Non-Null Count  Dtype  \n",
      "---  ------         --------------  -----  \n",
      " 0   fsq_id         15437 non-null  object \n",
      " 1   name           15457 non-null  object \n",
      " 2   s_lat          15437 non-null  float64\n",
      " 3   s_lon          15437 non-null  float64\n",
      " 4   p_lat          15437 non-null  float64\n",
      " 5   p_lon          15437 non-null  float64\n",
      " 6   category_id    15437 non-null  Int64  \n",
      " 7   category_name  15437 non-null  object \n",
      " 8   distance       15457 non-null  float64\n",
      " 9   rating         15209 non-null  float64\n",
      " 10  popularity     15408 non-null  float64\n",
      " 11  price          14261 non-null  Int64  \n",
      " 12  id             20 non-null     object \n",
      " 13  review_count   20 non-null     Int64  \n",
      " 14  categories     20 non-null     object \n",
      "dtypes: Int64(3), float64(7), object(5)\n",
      "memory usage: 1.8+ MB\n"
     ]
    }
   ],
   "source": [
    "combined_df.info()"
   ]
  },
  {
   "cell_type": "code",
   "execution_count": 18,
   "metadata": {},
   "outputs": [],
   "source": [
    "# Save combined_df for future database usage\n",
    "combined_df.to_csv('../data/combined_df.csv', index=False)"
   ]
  },
  {
   "cell_type": "markdown",
   "metadata": {},
   "source": [
    "Provide a visualization that you used as part of your EDA process. Explain the initial pattern or relationship you discoved through this visualization. "
   ]
  },
  {
   "cell_type": "code",
   "execution_count": 20,
   "metadata": {},
   "outputs": [
    {
     "data": {
      "text/html": [
       "<div>\n",
       "<style scoped>\n",
       "    .dataframe tbody tr th:only-of-type {\n",
       "        vertical-align: middle;\n",
       "    }\n",
       "\n",
       "    .dataframe tbody tr th {\n",
       "        vertical-align: top;\n",
       "    }\n",
       "\n",
       "    .dataframe thead th {\n",
       "        text-align: right;\n",
       "    }\n",
       "</style>\n",
       "<table border=\"1\" class=\"dataframe\">\n",
       "  <thead>\n",
       "    <tr style=\"text-align: right;\">\n",
       "      <th></th>\n",
       "      <th>s_lat</th>\n",
       "      <th>s_lon</th>\n",
       "      <th>p_lat</th>\n",
       "      <th>p_lon</th>\n",
       "      <th>category_id</th>\n",
       "      <th>distance</th>\n",
       "      <th>rating</th>\n",
       "      <th>popularity</th>\n",
       "      <th>price</th>\n",
       "      <th>review_count</th>\n",
       "    </tr>\n",
       "  </thead>\n",
       "  <tbody>\n",
       "    <tr>\n",
       "      <th>count</th>\n",
       "      <td>15437.000000</td>\n",
       "      <td>15437.000000</td>\n",
       "      <td>15437.000000</td>\n",
       "      <td>15437.000000</td>\n",
       "      <td>15437.0</td>\n",
       "      <td>15457.000000</td>\n",
       "      <td>15209.000000</td>\n",
       "      <td>15408.000000</td>\n",
       "      <td>14261.0</td>\n",
       "      <td>20.0</td>\n",
       "    </tr>\n",
       "    <tr>\n",
       "      <th>mean</th>\n",
       "      <td>40.728162</td>\n",
       "      <td>-73.970751</td>\n",
       "      <td>40.728207</td>\n",
       "      <td>-73.970772</td>\n",
       "      <td>13060.787653</td>\n",
       "      <td>557.595899</td>\n",
       "      <td>8.606312</td>\n",
       "      <td>0.975081</td>\n",
       "      <td>1.783185</td>\n",
       "      <td>681.7</td>\n",
       "    </tr>\n",
       "    <tr>\n",
       "      <th>std</th>\n",
       "      <td>0.039389</td>\n",
       "      <td>0.032449</td>\n",
       "      <td>0.039306</td>\n",
       "      <td>0.032540</td>\n",
       "      <td>526.22606</td>\n",
       "      <td>243.069705</td>\n",
       "      <td>0.553248</td>\n",
       "      <td>0.047476</td>\n",
       "      <td>0.736715</td>\n",
       "      <td>1228.727459</td>\n",
       "    </tr>\n",
       "    <tr>\n",
       "      <th>min</th>\n",
       "      <td>40.664241</td>\n",
       "      <td>-74.078900</td>\n",
       "      <td>40.656045</td>\n",
       "      <td>-74.089688</td>\n",
       "      <td>10000.0</td>\n",
       "      <td>5.000000</td>\n",
       "      <td>3.500000</td>\n",
       "      <td>0.004000</td>\n",
       "      <td>1.0</td>\n",
       "      <td>27.0</td>\n",
       "    </tr>\n",
       "    <tr>\n",
       "      <th>25%</th>\n",
       "      <td>40.692371</td>\n",
       "      <td>-73.993379</td>\n",
       "      <td>40.690425</td>\n",
       "      <td>-73.990949</td>\n",
       "      <td>13025.0</td>\n",
       "      <td>372.000000</td>\n",
       "      <td>8.400000</td>\n",
       "      <td>0.969000</td>\n",
       "      <td>1.0</td>\n",
       "      <td>231.75</td>\n",
       "    </tr>\n",
       "    <tr>\n",
       "      <th>50%</th>\n",
       "      <td>40.722438</td>\n",
       "      <td>-73.965930</td>\n",
       "      <td>40.721839</td>\n",
       "      <td>-73.966840</td>\n",
       "      <td>13064.0</td>\n",
       "      <td>564.000000</td>\n",
       "      <td>8.700000</td>\n",
       "      <td>0.980000</td>\n",
       "      <td>2.0</td>\n",
       "      <td>252.0</td>\n",
       "    </tr>\n",
       "    <tr>\n",
       "      <th>75%</th>\n",
       "      <td>40.759628</td>\n",
       "      <td>-73.947679</td>\n",
       "      <td>40.759485</td>\n",
       "      <td>-73.948890</td>\n",
       "      <td>13199.0</td>\n",
       "      <td>746.000000</td>\n",
       "      <td>9.000000</td>\n",
       "      <td>0.989000</td>\n",
       "      <td>2.0</td>\n",
       "      <td>396.5</td>\n",
       "    </tr>\n",
       "    <tr>\n",
       "      <th>max</th>\n",
       "      <td>40.810949</td>\n",
       "      <td>-73.907744</td>\n",
       "      <td>40.819432</td>\n",
       "      <td>-73.899296</td>\n",
       "      <td>19064.0</td>\n",
       "      <td>2729.000000</td>\n",
       "      <td>9.500000</td>\n",
       "      <td>1.000000</td>\n",
       "      <td>4.0</td>\n",
       "      <td>5477.0</td>\n",
       "    </tr>\n",
       "  </tbody>\n",
       "</table>\n",
       "</div>"
      ],
      "text/plain": [
       "              s_lat         s_lon         p_lat         p_lon   category_id  \\\n",
       "count  15437.000000  15437.000000  15437.000000  15437.000000       15437.0   \n",
       "mean      40.728162    -73.970751     40.728207    -73.970772  13060.787653   \n",
       "std        0.039389      0.032449      0.039306      0.032540     526.22606   \n",
       "min       40.664241    -74.078900     40.656045    -74.089688       10000.0   \n",
       "25%       40.692371    -73.993379     40.690425    -73.990949       13025.0   \n",
       "50%       40.722438    -73.965930     40.721839    -73.966840       13064.0   \n",
       "75%       40.759628    -73.947679     40.759485    -73.948890       13199.0   \n",
       "max       40.810949    -73.907744     40.819432    -73.899296       19064.0   \n",
       "\n",
       "           distance        rating    popularity     price  review_count  \n",
       "count  15457.000000  15209.000000  15408.000000   14261.0          20.0  \n",
       "mean     557.595899      8.606312      0.975081  1.783185         681.7  \n",
       "std      243.069705      0.553248      0.047476  0.736715   1228.727459  \n",
       "min        5.000000      3.500000      0.004000       1.0          27.0  \n",
       "25%      372.000000      8.400000      0.969000       1.0        231.75  \n",
       "50%      564.000000      8.700000      0.980000       2.0         252.0  \n",
       "75%      746.000000      9.000000      0.989000       2.0         396.5  \n",
       "max     2729.000000      9.500000      1.000000       4.0        5477.0  "
      ]
     },
     "execution_count": 20,
     "metadata": {},
     "output_type": "execute_result"
    }
   ],
   "source": [
    "combined_df.describe()"
   ]
  },
  {
   "cell_type": "code",
   "execution_count": null,
   "metadata": {},
   "outputs": [],
   "source": []
  },
  {
   "cell_type": "code",
   "execution_count": 43,
   "metadata": {},
   "outputs": [
    {
     "data": {
      "text/plain": [
       "<Figure size 800x800 with 0 Axes>"
      ]
     },
     "metadata": {},
     "output_type": "display_data"
    },
    {
     "data": {
      "image/png": "[encoded data removed]",
      "text/plain": [
       "<Figure size 640x480 with 6 Axes>"
      ]
     },
     "metadata": {},
     "output_type": "display_data"
    }
   ],
   "source": [
    "import seaborn as sns\n",
    "import matplotlib.pyplot as plt\n",
    "\n",
    "# Histogram of independant variables (all) and dependent variable (total_bikes)\n",
    "plt.figure(figsize=(8, 8))\n",
    "combined_df[['distance', 'review_count', 'rating', 'price', 'popularity']].hist(bins=20, alpha=0.8)\n",
    "plt.tight_layout()"
   ]
  },
  {
   "cell_type": "markdown",
   "metadata": {},
   "source": [
    "- Distance is well distributed\n",
    "- Some outliers in review_count over 5000\n",
    "- rating is left-skewed\n",
    "- price seems normally distributed\n",
    "- popularity is left-skewed\n"
   ]
  },
  {
   "cell_type": "code",
   "execution_count": 40,
   "metadata": {},
   "outputs": [
    {
     "data": {
      "image/png": "[encoded data removed]",
      "text/plain": [
       "<Figure size 1200x800 with 1 Axes>"
      ]
     },
     "metadata": {},
     "output_type": "display_data"
    }
   ],
   "source": [
    "# Validate outliers\n",
    "plt.figure(figsize=(12, 8))\n",
    "combined_df[['review_count']].boxplot()\n",
    "plt.tight_layout()"
   ]
  },
  {
   "cell_type": "code",
   "execution_count": 42,
   "metadata": {},
   "outputs": [
    {
     "data": {
      "image/png": "[encoded data removed]",
      "text/plain": [
       "<Figure size 1200x800 with 1 Axes>"
      ]
     },
     "metadata": {},
     "output_type": "display_data"
    }
   ],
   "source": [
    "plt.figure(figsize=(12, 8))\n",
    "combined_df[['rating']].boxplot()\n",
    "plt.tight_layout()"
   ]
  },
  {
   "cell_type": "code",
   "execution_count": 60,
   "metadata": {},
   "outputs": [
    {
     "data": {
      "text/plain": [
       "Text(0.5, 1.0, 'Correlation Heatmap')"
      ]
     },
     "execution_count": 60,
     "metadata": {},
     "output_type": "execute_result"
    },
    {
     "data": {
      "image/png": "[encoded data removed]",
      "text/plain": [
       "<Figure size 1000x800 with 2 Axes>"
      ]
     },
     "metadata": {},
     "output_type": "display_data"
    }
   ],
   "source": [
    "# Correlation\n",
    "correlation_matrix = combined_df[[ 'review_count', 'rating', 'price']].corr()\n",
    "\n",
    "# Create a heatmap\n",
    "plt.figure(figsize=(10, 8))\n",
    "sns.heatmap(correlation_matrix, annot=True, cmap='coolwarm', center=0)\n",
    "plt.title('Correlation Heatmap')"
   ]
  },
  {
   "cell_type": "markdown",
   "metadata": {},
   "source": [
    "# Database"
   ]
  },
  {
   "cell_type": "markdown",
   "metadata": {},
   "source": [
    "Put all your results in an SQLite3 database (remember, SQLite stores its databases as files in your local machine - make sure to create your database in your project's data/ directory!)"
   ]
  },
  {
   "cell_type": "code",
   "execution_count": 61,
   "metadata": {},
   "outputs": [],
   "source": [
    "# Connection function\n",
    "def create_connection(path):\n",
    "    connection = None\n",
    "    try:\n",
    "        connection = sqlite3.connect(path)\n",
    "        print(\"Connection to SQLite DB successful\")\n",
    "    except Error as e:\n",
    "        print(f\"The error '{e}' occurred\")\n",
    "\n",
    "    return connection"
   ]
  },
  {
   "cell_type": "code",
   "execution_count": 62,
   "metadata": {},
   "outputs": [],
   "source": [
    "# Query function\n",
    "def execute_query(queries, cursor, data=None, print_message=True):\n",
    "    try:\n",
    "        for query in queries:\n",
    "            if data:\n",
    "                cursor.execute(query, data)\n",
    "            else:\n",
    "                cursor.execute(query)\n",
    "        \n",
    "        # Commit only if all statements succeeded\n",
    "        cursor.connection.commit()\n",
    "        \n",
    "        if print_message:\n",
    "            print(\"Queries executed successfully\")\n",
    "\n",
    "    except sqlite3.Error as e:\n",
    "        print(\"An error occurred:\", e)\n",
    "        # Rollback the transaction in case of error\n",
    "        cursor.connection.rollback()"
   ]
  },
  {
   "cell_type": "code",
   "execution_count": 63,
   "metadata": {},
   "outputs": [],
   "source": [
    "# Inerts function\n",
    "def execute_inserts(table, query, cursor):\n",
    "\n",
    "    # Convert DataFrame rows to list of dictionaries\n",
    "    my_list = table.to_dict(orient='records')\n",
    "\n",
    "    # Iterate through the list of dictionaries and insert data\n",
    "    for row in my_list:\n",
    "        try:\n",
    "            execute_query(query, cursor, row, print_message=False)\n",
    "\n",
    "        except sqlite3.Error as e:\n",
    "            print(\"An error occurred:\", e)\n",
    "            \n",
    "    print(\"Queries executed successfully\")"
   ]
  },
  {
   "cell_type": "code",
   "execution_count": 64,
   "metadata": {},
   "outputs": [],
   "source": [
    "# CREATE TABLE queries in related order\n",
    "create_table_queries = [\n",
    "\"\"\"\n",
    "CREATE TABLE IF NOT EXISTS stations (\n",
    "  station_id INTEGER PRIMARY KEY AUTOINCREMENT,\n",
    "  station_name VARCHAR NOT NULL,\n",
    "  s_lat FLOAT NOT NULL,\n",
    "  s_lon FLOAT NOT NULL,\n",
    "  total_bikes INTEGER NOT NULL\n",
    ");\n",
    "\"\"\",\n",
    "\"\"\"\n",
    "CREATE TABLE IF NOT EXISTS categories (\n",
    "  category_id INTEGER PRIMARY KEY,\n",
    "  category_name VARCHAR NOT NULL\n",
    ");\n",
    "\"\"\",\n",
    "\"\"\"\n",
    "CREATE TABLE IF NOT EXISTS prices (\n",
    "  price INTEGER PRIMARY KEY,\n",
    "  price_name VARCHAR NOT NULL\n",
    ");\n",
    "\"\"\",\n",
    "\"\"\"\n",
    "CREATE TABLE IF NOT EXISTS pois (\n",
    "  poi_id INTEGER PRIMARY KEY AUTOINCREMENT,\n",
    "  poi_name VARCHAR NOT NULL,\n",
    "  p_lat FLOAT NOT NULL,\n",
    "  p_lon FLOAT NOT NULL,\n",
    "  review_count INTEGER,\n",
    "  rating FLOAT,\n",
    "  popularity FLOAT,\n",
    "  price INTEGER,\n",
    "  price_change_log INTEGER,\n",
    "  rating_change_log INTEGER,\n",
    "  popularity_change_log INTEGER,\n",
    "  FOREIGN KEY (price) REFERENCES prices(price)\n",
    ");\n",
    "\"\"\",\n",
    "\"\"\"\n",
    "CREATE TABLE IF NOT EXISTS poi_category (\n",
    "  poi_id INTEGER NOT NULL,\n",
    "  category_id INTEGER NOT NULL,\n",
    "  PRIMARY KEY (poi_id, category_id),\n",
    "  FOREIGN KEY (poi_id) REFERENCES pois(poi_id),\n",
    "  FOREIGN KEY (category_id) REFERENCES categories(category_id)\n",
    ");\n",
    "\"\"\",\n",
    "\"\"\"\n",
    "CREATE TABLE IF NOT EXISTS poi_detail (\n",
    "  data_id INTEGER PRIMARY KEY AUTOINCREMENT,\n",
    "  station_id INTEGER NOT NULL,\n",
    "  poi_id INTEGER NOT NULL,\n",
    "  to_station_m INTEGER NOT NULL,\n",
    "  FOREIGN KEY (station_id) REFERENCES stations(station_id),\n",
    "  FOREIGN KEY (poi_id) REFERENCES pois(poi_id)\n",
    ");\n",
    "\"\"\",\n",
    "\"\"\"\n",
    "CREATE TABLE IF NOT EXISTS api (\n",
    "  api_number VARCHAR PRIMARY KEY,\n",
    "  api_name VARCHAR NOT NULL,\n",
    "  poi_id INTEGER NOT NULL,\n",
    "  FOREIGN KEY (poi_id) REFERENCES pois(poi_id)\n",
    ");\n",
    "\"\"\"\n",
    "]"
   ]
  },
  {
   "cell_type": "code",
   "execution_count": 65,
   "metadata": {},
   "outputs": [
    {
     "name": "stdout",
     "output_type": "stream",
     "text": [
      "Connection to SQLite DB successful\n"
     ]
    }
   ],
   "source": [
    "# Create connection and cursor\n",
    "conn = create_connection('../data/mtl_bike_rentals.sqlite')\n",
    "# Create cursor\n",
    "cursor = conn.cursor()"
   ]
  },
  {
   "cell_type": "code",
   "execution_count": 66,
   "metadata": {},
   "outputs": [
    {
     "name": "stdout",
     "output_type": "stream",
     "text": [
      "Queries executed successfully\n"
     ]
    }
   ],
   "source": [
    "# Call the function to create the tables\n",
    "execute_query(create_table_queries, cursor)"
   ]
  }
 ],
 "metadata": {
  "kernelspec": {
   "display_name": "Python 3",
   "language": "python",
   "name": "python3"
  },
  "language_info": {
   "codemirror_mode": {
    "name": "ipython",
    "version": 3
   },
   "file_extension": ".py",
   "mimetype": "text/x-python",
   "name": "python",
   "nbconvert_exporter": "python",
   "pygments_lexer": "ipython3",
   "version": "3.11.5"
  }
 },
 "nbformat": 4,
 "nbformat_minor": 4
}
