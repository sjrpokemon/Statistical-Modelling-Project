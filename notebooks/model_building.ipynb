{
 "cells": [
  {
   "cell_type": "markdown",
   "metadata": {},
   "source": [
    "Build a regression model."
   ]
  },
  {
   "cell_type": "code",
   "execution_count": 1,
   "metadata": {},
   "outputs": [],
   "source": [
    "# import\n",
    "import statsmodels.api as sm\n",
    "import pandas as pd\n",
    "import numpy as np\n",
    "import sqlite3\n",
    "import seaborn as sns\n",
    "import matplotlib.pyplot as plt\n",
    "%matplotlib inline\n",
    "import scipy"
   ]
  },
  {
   "cell_type": "markdown",
   "metadata": {},
   "source": [
    "Provide model output and an interpretation of the results. "
   ]
  },
  {
   "cell_type": "code",
   "execution_count": 2,
   "metadata": {},
   "outputs": [],
   "source": [
    "# create connection\n",
    "conn = sqlite3.connect('../data/mtl_bike_rentals.sqlite')"
   ]
  },
  {
   "cell_type": "code",
   "execution_count": null,
   "metadata": {},
   "outputs": [],
   "source": [
    "# Select data for first model\n",
    "\n",
    "yelp_model_all_review = pd.read_sql(\n",
    "    \"\"\"\n",
    "    SELECT\n",
    "        s.station_name AS name,\n",
    "        s.station_id AS station,\n",
    "        AVG(s.total_bikes) AS total_bikes,\n",
    "        AVG(pd.to_station_m) AS avg_distance_to_station_m,\n",
    "        AVG(review_count) AS avg_review,\n",
    "        AVG(p.rating) AS avg_rating,\n",
    "        AVG(p.price) AS avg_price,\n",
    "        COUNT(*) AS number_poi\n",
    "    FROM\n",
    "        stations s\n",
    "    JOIN poi_detail pd USING(station_id)\n",
    "    JOIN pois p USING(poi_id)\n",
    "    JOIN api a USING(poi_id)\n",
    "    WHERE\n",
    "        api_name = 'Yelp'\n",
    "        AND total_bikes BETWEEN 10 AND 35\n",
    "        AND rating > 6\n",
    "    GROUP BY 1, 2\n",
    "    HAVING\n",
    "        avg_review NOT NULL\n",
    "    ORDER BY\n",
    "        station;\n",
    "    \"\"\", conn\n",
    ")\n",
    "\n",
    "print(yelp_model_all_review)"
   ]
  },
  {
   "cell_type": "markdown",
   "metadata": {},
   "source": [
    "        name  station  total_bikes  \\\n",
    "0                            Union / Ste-Catherine       26         35.0   \n",
    "1                            University / des Pins       27         35.0   \n",
    "2                                 Dorion / Ontario       28         35.0   \n",
    "3                   de la Montagne / Ste-Catherine       29         35.0   \n",
    "4                          Larivière / de Lorimier       30         35.0   \n",
    "..                                             ...      ...          ...   \n",
    "759                       de Chateaubriand / Jarry      789         11.0   \n",
    "760                           Cégep Marie-Victorin      790         11.0   \n",
    "761                         Ste-Famille / des Pins      791         10.0   \n",
    "762                            Waverly / Van Horne      792         10.0   \n",
    "763  Gare d'autocars de Montréal (Berri / Ontario)      793         10.0   \n",
    "\n",
    "     avg_distance_to_station_m  avg_review  avg_rating  avg_price  number_poi  \n",
    "0                   401.842105  265.947368    8.105263   2.421053          19  \n",
    "1                   771.000000  530.777778    8.500000   2.444444           9  \n",
    "2                   539.062500  113.312500    8.242188   2.250000          16  \n",
    "3                   254.650000  292.850000    8.031250   2.350000          20  \n",
    "4                   618.187500   68.125000    7.960938   1.875000          16  \n",
    "..                         ...         ...         ...        ...         ...  \n",
    "759                 352.125000   31.812500    8.171875   1.750000          16  \n",
    "760                 764.428571    4.285714    8.232143   2.000000           7  \n",
    "761                 623.000000  427.833333    8.375000   2.222222          18  \n",
    "762                 534.705882  155.705882    8.411765   2.294118          17  \n",
    "763                 404.157895  240.157895    8.342105   2.368421          19  "
   ]
  },
  {
   "cell_type": "code",
   "execution_count": 5,
   "metadata": {},
   "outputs": [
    {
     "data": {
      "text/html": [
       "<div>\n",
       "<style scoped>\n",
       "    .dataframe tbody tr th:only-of-type {\n",
       "        vertical-align: middle;\n",
       "    }\n",
       "\n",
       "    .dataframe tbody tr th {\n",
       "        vertical-align: top;\n",
       "    }\n",
       "\n",
       "    .dataframe thead th {\n",
       "        text-align: right;\n",
       "    }\n",
       "</style>\n",
       "<table border=\"1\" class=\"dataframe\">\n",
       "  <thead>\n",
       "    <tr style=\"text-align: right;\">\n",
       "      <th></th>\n",
       "      <th>const</th>\n",
       "      <th>avg_distance_to_station_m</th>\n",
       "      <th>avg_review</th>\n",
       "      <th>avg_rating</th>\n",
       "      <th>avg_price</th>\n",
       "      <th>number_poi</th>\n",
       "    </tr>\n",
       "  </thead>\n",
       "  <tbody>\n",
       "  </tbody>\n",
       "</table>\n",
       "</div>"
      ],
      "text/plain": [
       "Empty DataFrame\n",
       "Columns: [const, avg_distance_to_station_m, avg_review, avg_rating, avg_price, number_poi]\n",
       "Index: []"
      ]
     },
     "execution_count": 5,
     "metadata": {},
     "output_type": "execute_result"
    }
   ],
   "source": [
    "# Run model with all variables\n",
    "y = yelp_model_all_review['total_bikes']\n",
    "X = yelp_model_all_review.drop(['total_bikes', 'name', 'station'], axis=1)\n",
    "X = sm.add_constant(X)\n",
    "X"
   ]
  },
  {
   "cell_type": "code",
   "execution_count": null,
   "metadata": {},
   "outputs": [],
   "source": [
    "# Run model and output summary\n",
    "model = sm.OLS(y, X)\n",
    "results = model.fit()\n",
    "print(results.summary())"
   ]
  },
  {
   "cell_type": "markdown",
   "metadata": {},
   "source": [
    "                            OLS Regression Results                            \n",
    "==============================================================================\n",
    "Dep. Variable:            total_bikes   R-squared:                       0.108\n",
    "Model:                            OLS   Adj. R-squared:                  0.102\n",
    "Method:                 Least Squares   F-statistic:                     18.27\n",
    "Date:                Sun, 19 NOV 2023   Prob (F-statistic):           3.75e-17\n",
    "Time:                        22:52:18   Log-Likelihood:                -2309.6\n",
    "No. Observations:                 764   AIC:                             4631.\n",
    "Df Residuals:                     758   BIC:                             4659.\n",
    "Df Model:                           5                                         \n",
    "Covariance Type:            nonrobust                                         \n",
    "=============================================================================================\n",
    "                                coef    std err          t      P>|t|      [0.025      0.975]\n",
    "---------------------------------------------------------------------------------------------\n",
    "const                        26.8686      5.110      5.258      0.000      16.837      36.900\n",
    "avg_distance_to_station_m    -0.0018      0.001     -1.427      0.154      -0.004       0.001\n",
    "avg_review                    0.0057      0.002      3.249      0.001       0.002       0.009\n",
    "avg_rating                   -1.6184      0.529     -3.058      0.002      -2.657      -0.580\n",
    "avg_price                     2.7360      0.954      2.868      0.004       0.864       4.608\n",
    "number_poi                    0.0916      0.047      1.966      0.050       0.000       0.183\n",
    "==============================================================================\n",
    "Omnibus:                       29.935   Durbin-Watson:                   0.213\n",
    "Prob(Omnibus):                  0.000   Jarque-Bera (JB):               32.648\n",
    "Skew:                           0.505   Prob(JB):                     8.14e-08\n",
    "Kurtosis:                       3.067   Cond. No.                     1.63e+04\n",
    "=============================================================================="
   ]
  },
  {
   "cell_type": "markdown",
   "metadata": {},
   "source": [
    "The Standard Errors says that the covariance matrix of the errors is correctly specified.\n",
    "The condition number is 1.63e+04. This might indicate that there are\n",
    "strong multicollinearity or other numerical problems because of the large value."
   ]
  },
  {
   "cell_type": "markdown",
   "metadata": {},
   "source": [
    "# Stretch"
   ]
  },
  {
   "cell_type": "markdown",
   "metadata": {},
   "source": [
    "How can you turn the regression model into a classification model?"
   ]
  },
  {
   "cell_type": "markdown",
   "metadata": {},
   "source": [
    "Conduct a survey to collect data on whether customers believe there are enough bikes at a station and then assign binary values 0 or 1 to represent \"Not enough bikes\" and \"Enough bikes\".\n",
    "Then I would model using the point of interests to see the relationship between the data and customer statements. We could use this model to predict the number of bikes needed at a station or build a new station to see how much bikes we need to start with.\n",
    "\n",
    "\n"
   ]
  }
 ],
 "metadata": {
  "kernelspec": {
   "display_name": "Python 3",
   "language": "python",
   "name": "python3"
  },
  "language_info": {
   "codemirror_mode": {
    "name": "ipython",
    "version": 3
   },
   "file_extension": ".py",
   "mimetype": "text/x-python",
   "name": "python",
   "nbconvert_exporter": "python",
   "pygments_lexer": "ipython3",
   "version": "3.11.5"
  }
 },
 "nbformat": 4,
 "nbformat_minor": 4
}
