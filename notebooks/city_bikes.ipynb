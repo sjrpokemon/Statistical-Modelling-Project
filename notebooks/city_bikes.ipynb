{
 "cells": [
  {
   "cell_type": "markdown",
   "metadata": {},
   "source": [
    "# CityBikes"
   ]
  },
  {
   "cell_type": "markdown",
   "metadata": {},
   "source": [
    "Send a request to CityBikes for the city of your choice. "
   ]
  },
  {
   "cell_type": "code",
   "execution_count": 7,
   "metadata": {},
   "outputs": [],
   "source": [
    "import pandas as pd\n",
    "import json\n",
    "import requests\n",
    "from pprint import pp"
   ]
  },
  {
   "cell_type": "code",
   "execution_count": 2,
   "metadata": {},
   "outputs": [],
   "source": [
    "\n",
    "city_name = 'citi-bike-nyc'\n",
    "api_url = f'https://api.citybik.es/v2/networks/{city_name}'\n",
    "\n",
    "# Send a GET request to the CityBikes API\n",
    "response = requests.get(api_url)\n",
    "\n",
    "# Check if the request was successful \n",
    "if response.status_code == 200:\n",
    "    data = response.json()\n",
    "else:\n",
    "    # Print an error message if the request was not successful\n",
    "    print(f\"Error: {response.status_code}\")"
   ]
  },
  {
   "cell_type": "markdown",
   "metadata": {},
   "source": [
    "Parse through the response to get the details you want for the bike stations in that city (latitude, longitude, number of bikes). "
   ]
  },
  {
   "cell_type": "code",
   "execution_count": 10,
   "metadata": {},
   "outputs": [],
   "source": [
    "result_stations = requests.get(api_url)\n",
    "stations = result_stations.json()['network']['stations']\n",
    "\n",
    "# Initialize desired info\n",
    "station_names = []\n",
    "latitudes = []\n",
    "longitudes = []\n",
    "total_bikes = []\n",
    "\n",
    "# Extract station info\n",
    "for station in stations:\n",
    "    station_names.append(station['name'])\n",
    "    latitudes.append(station['latitude'])\n",
    "    longitudes.append(station['longitude'])\n",
    "    total_bikes.append(station['empty_slots'] + station['free_bikes'])"
   ]
  },
  {
   "cell_type": "markdown",
   "metadata": {},
   "source": [
    "Put your parsed results into a DataFrame."
   ]
  },
  {
   "cell_type": "code",
   "execution_count": 11,
   "metadata": {},
   "outputs": [],
   "source": [
    "# Create a DataFrame\n",
    "df = {\n",
    "    'station_name': station_names,\n",
    "    'latitude': latitudes,\n",
    "    'longitude': longitudes,\n",
    "    'total_bikes': total_bikes\n",
    "}\n",
    "\n",
    "df_stations = pd.DataFrame(df)\n",
    "\n"
   ]
  },
  {
   "cell_type": "code",
   "execution_count": 12,
   "metadata": {},
   "outputs": [
    {
     "name": "stdout",
     "output_type": "stream",
     "text": [
      "station_name     object\n",
      "latitude        float64\n",
      "longitude       float64\n",
      "total_bikes       int64\n",
      "dtype: object\n",
      "<class 'pandas.core.frame.DataFrame'>\n",
      "RangeIndex: 2116 entries, 0 to 2115\n",
      "Data columns (total 4 columns):\n",
      " #   Column        Non-Null Count  Dtype  \n",
      "---  ------        --------------  -----  \n",
      " 0   station_name  2116 non-null   object \n",
      " 1   latitude      2116 non-null   float64\n",
      " 2   longitude     2116 non-null   float64\n",
      " 3   total_bikes   2116 non-null   int64  \n",
      "dtypes: float64(2), int64(1), object(1)\n",
      "memory usage: 66.3+ KB\n"
     ]
    }
   ],
   "source": [
    "#Pre-cleaning\n",
    "print(df_stations.dtypes)\n",
    "df_stations.info()"
   ]
  },
  {
   "cell_type": "code",
   "execution_count": 13,
   "metadata": {},
   "outputs": [
    {
     "data": {
      "text/html": [
       "<div>\n",
       "<style scoped>\n",
       "    .dataframe tbody tr th:only-of-type {\n",
       "        vertical-align: middle;\n",
       "    }\n",
       "\n",
       "    .dataframe tbody tr th {\n",
       "        vertical-align: top;\n",
       "    }\n",
       "\n",
       "    .dataframe thead th {\n",
       "        text-align: right;\n",
       "    }\n",
       "</style>\n",
       "<table border=\"1\" class=\"dataframe\">\n",
       "  <thead>\n",
       "    <tr style=\"text-align: right;\">\n",
       "      <th></th>\n",
       "      <th>station_name</th>\n",
       "      <th>latitude</th>\n",
       "      <th>longitude</th>\n",
       "      <th>total_bikes</th>\n",
       "    </tr>\n",
       "  </thead>\n",
       "  <tbody>\n",
       "    <tr>\n",
       "      <th>0</th>\n",
       "      <td>W 100 St &amp; Manhattan Ave</td>\n",
       "      <td>40.795000</td>\n",
       "      <td>-73.964500</td>\n",
       "      <td>31</td>\n",
       "    </tr>\n",
       "    <tr>\n",
       "      <th>1</th>\n",
       "      <td>7 Ave &amp; Central Park South</td>\n",
       "      <td>40.766741</td>\n",
       "      <td>-73.979069</td>\n",
       "      <td>0</td>\n",
       "    </tr>\n",
       "    <tr>\n",
       "      <th>2</th>\n",
       "      <td>28 St &amp; 41 Ave</td>\n",
       "      <td>40.751047</td>\n",
       "      <td>-73.937970</td>\n",
       "      <td>24</td>\n",
       "    </tr>\n",
       "    <tr>\n",
       "      <th>3</th>\n",
       "      <td>Frederick Douglass Blvd &amp; W 112 St</td>\n",
       "      <td>40.801694</td>\n",
       "      <td>-73.957145</td>\n",
       "      <td>34</td>\n",
       "    </tr>\n",
       "    <tr>\n",
       "      <th>4</th>\n",
       "      <td>3 Ave &amp; E 112 St</td>\n",
       "      <td>40.795508</td>\n",
       "      <td>-73.941606</td>\n",
       "      <td>22</td>\n",
       "    </tr>\n",
       "  </tbody>\n",
       "</table>\n",
       "</div>"
      ],
      "text/plain": [
       "                         station_name   latitude  longitude  total_bikes\n",
       "0            W 100 St & Manhattan Ave  40.795000 -73.964500           31\n",
       "1          7 Ave & Central Park South  40.766741 -73.979069            0\n",
       "2                      28 St & 41 Ave  40.751047 -73.937970           24\n",
       "3  Frederick Douglass Blvd & W 112 St  40.801694 -73.957145           34\n",
       "4                    3 Ave & E 112 St  40.795508 -73.941606           22"
      ]
     },
     "execution_count": 13,
     "metadata": {},
     "output_type": "execute_result"
    }
   ],
   "source": [
    "df_stations.head()"
   ]
  },
  {
   "cell_type": "code",
   "execution_count": 14,
   "metadata": {},
   "outputs": [
    {
     "name": "stdout",
     "output_type": "stream",
     "text": [
      "0\n"
     ]
    }
   ],
   "source": [
    "print(df_stations.duplicated().sum())"
   ]
  },
  {
   "cell_type": "code",
   "execution_count": 15,
   "metadata": {},
   "outputs": [
    {
     "name": "stdout",
     "output_type": "stream",
     "text": [
      "          latitude    longitude  total_bikes\n",
      "count  2116.000000  2116.000000  2116.000000\n",
      "mean     40.746170   -73.947572    27.720227\n",
      "std       0.061040     0.043628    15.241544\n",
      "min      40.633385   -74.086701     0.000000\n",
      "25%      40.699662   -73.981913    19.000000\n",
      "50%      40.742148   -73.944601    22.000000\n",
      "75%      40.784796   -73.912910    30.000000\n",
      "max      40.886300   -73.849780   120.000000\n"
     ]
    }
   ],
   "source": [
    "print(df_stations.describe())"
   ]
  },
  {
   "cell_type": "code",
   "execution_count": 16,
   "metadata": {},
   "outputs": [],
   "source": [
    "#Create CSV\n",
    "df_stations.to_csv('../data/stations.csv')"
   ]
  },
  {
   "cell_type": "code",
   "execution_count": null,
   "metadata": {},
   "outputs": [],
   "source": []
  }
 ],
 "metadata": {
  "kernelspec": {
   "display_name": "Python 3",
   "language": "python",
   "name": "python3"
  },
  "language_info": {
   "codemirror_mode": {
    "name": "ipython",
    "version": 3
   },
   "file_extension": ".py",
   "mimetype": "text/x-python",
   "name": "python",
   "nbconvert_exporter": "python",
   "pygments_lexer": "ipython3",
   "version": "3.11.5"
  }
 },
 "nbformat": 4,
 "nbformat_minor": 4
}
