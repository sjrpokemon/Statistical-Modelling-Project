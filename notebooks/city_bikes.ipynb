{
 "cells": [
  {
   "cell_type": "markdown",
   "metadata": {},
   "source": [
    "# CityBikes"
   ]
  },
  {
   "cell_type": "markdown",
   "metadata": {},
   "source": [
    "Send a request to CityBikes for the city of your choice. "
   ]
  },
  {
   "cell_type": "code",
   "execution_count": 10,
   "metadata": {},
   "outputs": [],
   "source": [
    "import requests\n",
    "import pandas as pd\n",
    "\n",
    "# Replace 'YOUR_CITY' with the desired city\n",
    "city_name = 'citi-bike-nyc'\n",
    "api_url = f'https://api.citybik.es/v2/networks/{city_name}'\n",
    "\n",
    "# Send a GET request to the CityBikes API\n",
    "response = requests.get(api_url)\n",
    "\n",
    "# Check if the request was successful \n",
    "if response.status_code == 200:\n",
    "    data = response.json()\n",
    "else:\n",
    "    # Print an error message if the request was not successful\n",
    "    print(f\"Error: {response.status_code}\")\n"
   ]
  },
  {
   "cell_type": "markdown",
   "metadata": {},
   "source": [
    "Parse through the response to get the details you want for the bike stations in that city (latitude, longitude, number of bikes). "
   ]
  },
  {
   "cell_type": "code",
   "execution_count": 11,
   "metadata": {},
   "outputs": [],
   "source": [
    "import json\n",
    "\n",
    "# Convert the dictionary to a JSON-formatted string\n",
    "json_data = json.dumps(data)\n",
    "\n",
    "# Perform the replacements on the string\n",
    "json_data = json_data.replace('\"latitude\":', '\"latitude\":').replace('\"longitude\":', '\"longitude\":')\n",
    "\n",
    "# Load the modified JSON-formatted string back into a dictionary\n",
    "json_object = json.loads(json_data)\n",
    "\n",
    "# Print the formatted JSON string\n",
    "json_formatted_str = json.dumps(json_object, indent=2)"
   ]
  },
  {
   "cell_type": "markdown",
   "metadata": {},
   "source": [
    "Put your parsed results into a DataFrame."
   ]
  },
  {
   "cell_type": "code",
   "execution_count": 13,
   "metadata": {},
   "outputs": [
    {
     "name": "stdout",
     "output_type": "stream",
     "text": [
      "       latitude  longitude  free_bikes  empty_slots\n",
      "0     40.795000 -73.964500          17           14\n",
      "1     40.766741 -73.979069           0            0\n",
      "2     40.751047 -73.937970           2           23\n",
      "3     40.801694 -73.957145          33            0\n",
      "4     40.795508 -73.941606          18            4\n",
      "...         ...        ...         ...          ...\n",
      "2103  40.884350 -73.887810           3           22\n",
      "2104  40.884920 -73.890840           3           23\n",
      "2105  40.843350 -73.882470           2           17\n",
      "2106  40.884170 -73.897930           4           15\n",
      "2107  40.857240 -73.890900           7           12\n",
      "\n",
      "[2108 rows x 4 columns]\n"
     ]
    }
   ],
   "source": [
    "# Extract information about bike stations\n",
    "stations = data['network']['stations']\n",
    "\n",
    "# Create a Pandas DataFrame\n",
    "df = pd.DataFrame(stations)\n",
    "\n",
    "# Select relevant columns (latitude, longitude, number of bikes)\n",
    "df = df[['latitude', 'longitude', 'free_bikes', 'empty_slots']]\n",
    "\n",
    "# Display the DataFrame\n",
    "print(df)"
   ]
  },
  {
   "cell_type": "code",
   "execution_count": null,
   "metadata": {},
   "outputs": [],
   "source": []
  }
 ],
 "metadata": {
  "kernelspec": {
   "display_name": "Python 3",
   "language": "python",
   "name": "python3"
  },
  "language_info": {
   "codemirror_mode": {
    "name": "ipython",
    "version": 3
   },
   "file_extension": ".py",
   "mimetype": "text/x-python",
   "name": "python",
   "nbconvert_exporter": "python",
   "pygments_lexer": "ipython3",
   "version": "3.11.5"
  }
 },
 "nbformat": 4,
 "nbformat_minor": 4
}
